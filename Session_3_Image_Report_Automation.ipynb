{
 "cells": [
  {"cell_type": "markdown","metadata": {},"source": ["# Session 3: Image & Report Automation\n## Template Matching OpenCV + ReportLab"]},
  {"cell_type": "code","execution_count": null,"metadata": {},"outputs": [],"source": [
    "import cv2\nimport numpy as np\n\nimg = cv2.imread('screen.png',0)\ntemplate = cv2.imread('button.png',0)\nres = cv2.matchTemplate(img,template,cv2.TM_CCOEFF_NORMED)\nmin_val,max_val,min_loc,max_loc = cv2.minMaxLoc(res)\nprint('Best match location:',max_loc)"
  ]},
  {"cell_type": "code","execution_count": null,"metadata": {},"outputs": [],"source": [
    "from reportlab.lib.pagesizes import A4\nfrom reportlab.pdfgen import canvas\n\nc = canvas.Canvas('report.pdf',pagesize=A4)\nc.drawString(100,800,'Monthly Report')\nc.drawString(100,780,'Name: Ake')\nc.save()"
  ]}
 ],
 "metadata": {"kernelspec": {"name": "python3","display_name": "Python 3","language": "python"}},
 "nbformat": 4,
 "nbformat_minor": 5
}