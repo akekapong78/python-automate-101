{
 "cells": [
  {
   "cell_type": "markdown",
   "id": "0cb114a3",
   "metadata": {},
   "source": [
    "# Session 0: Python Basics\n",
    "## Introduction\n",
    "Session นี้เป็นการทบทวนพื้นฐาน Python เหมาะสำหรับผู้เริ่มต้นหรือผู้ที่ต้องการ Refresh ก่อนเรียนคอร์สจริง"
   ]
  },
  {
   "cell_type": "markdown",
   "id": "01f68ce8",
   "metadata": {},
   "source": [
    "## 1. Hello World"
   ]
  },
  {
   "cell_type": "code",
   "execution_count": 1,
   "id": "0d476dda",
   "metadata": {},
   "outputs": [
    {
     "name": "stdout",
     "output_type": "stream",
     "text": [
      "Hello, Python!\n"
     ]
    }
   ],
   "source": [
    "print('Hello, Python!')"
   ]
  },
  {
   "cell_type": "markdown",
   "id": "b61f5fe6",
   "metadata": {},
   "source": [
    "## 2. Variables & Data Types"
   ]
  },
  {
   "cell_type": "code",
   "execution_count": 2,
   "id": "556f2e81",
   "metadata": {},
   "outputs": [
    {
     "name": "stdout",
     "output_type": "stream",
     "text": [
      "10 <class 'int'>\n",
      "3.14 <class 'float'>\n",
      "Ake <class 'str'>\n",
      "True <class 'bool'>\n"
     ]
    }
   ],
   "source": [
    "# Examples of variables\n",
    "a = 10\n",
    "b = 3.14\n",
    "name = 'Ake'\n",
    "is_ready = True\n",
    "\n",
    "print(a, type(a))\n",
    "print(b, type(b))\n",
    "print(name, type(name))\n",
    "print(is_ready, type(is_ready))"
   ]
  },
  {
   "cell_type": "markdown",
   "id": "dd9ffd41",
   "metadata": {},
   "source": [
    "## 3. Conditions"
   ]
  },
  {
   "cell_type": "code",
   "execution_count": 3,
   "id": "b1bbcca2",
   "metadata": {},
   "outputs": [
    {
     "name": "stdout",
     "output_type": "stream",
     "text": [
      "Pass\n"
     ]
    }
   ],
   "source": [
    "score = 75\n",
    "if score >= 80:\n",
    "    print('Grade A')\n",
    "elif score >= 50:\n",
    "    print('Pass')\n",
    "else:\n",
    "    print('Fail')"
   ]
  },
  {
   "cell_type": "markdown",
   "id": "0ff44e56",
   "metadata": {},
   "source": [
    "## 4. Loops"
   ]
  },
  {
   "cell_type": "code",
   "execution_count": 5,
   "id": "ff2615a7",
   "metadata": {},
   "outputs": [
    {
     "name": "stdout",
     "output_type": "stream",
     "text": [
      "Round: 0\n",
      "Round: 1\n",
      "Round: 2\n",
      "Round: 3\n",
      "Round: 4\n",
      "Count: 0\n",
      "Count: 1\n",
      "Count: 2\n"
     ]
    }
   ],
   "source": [
    "for i in range(5):\n",
    "    print('Round:', i)\n",
    "\n",
    "count = 0\n",
    "while count < 3:\n",
    "    print('Count:', count)\n",
    "    count += 1"
   ]
  },
  {
   "cell_type": "markdown",
   "id": "f2748bd6",
   "metadata": {},
   "source": [
    "## 5. Functions"
   ]
  },
  {
   "cell_type": "code",
   "execution_count": 6,
   "id": "3ddfea53",
   "metadata": {},
   "outputs": [
    {
     "name": "stdout",
     "output_type": "stream",
     "text": [
      "Hello Proud\n",
      "Hello Penglong\n"
     ]
    }
   ],
   "source": [
    "def greet(name):\n",
    "    return f'Hello {name}'\n",
    "\n",
    "print(greet('Proud'))\n",
    "print(greet('Penglong'))"
   ]
  },
  {
   "cell_type": "markdown",
   "id": "f9b3455a",
   "metadata": {},
   "source": [
    "## 6. File Handling"
   ]
  },
  {
   "cell_type": "code",
   "execution_count": 7,
   "id": "a2775d06",
   "metadata": {},
   "outputs": [
    {
     "name": "stdout",
     "output_type": "stream",
     "text": [
      "File content: Hello Python!\n"
     ]
    }
   ],
   "source": [
    "# Write file\n",
    "with open('hello.txt', 'w', encoding='utf-8') as f:\n",
    "    f.write('Hello Python!')\n",
    "\n",
    "# Read file\n",
    "with open('hello.txt', 'r', encoding='utf-8') as f:\n",
    "    content = f.read()\n",
    "print('File content:', content)"
   ]
  },
  {
   "cell_type": "markdown",
   "id": "d5cfbe97",
   "metadata": {},
   "source": [
    "## Summary\n",
    "Session 0 เป็นพื้นฐาน Python สำหรับผู้เริ่มต้น/ทบทวน แนะนำให้รันโค้ดเองเพื่อฝึกความเข้าใจ"
   ]
  }
 ],
 "metadata": {
  "kernelspec": {
   "display_name": "Python 3",
   "language": "python",
   "name": "python3"
  },
  "language_info": {
   "codemirror_mode": {
    "name": "ipython",
    "version": 3
   },
   "file_extension": ".py",
   "mimetype": "text/x-python",
   "name": "python",
   "nbconvert_exporter": "python",
   "pygments_lexer": "ipython3",
   "version": "3.12.3"
  }
 },
 "nbformat": 4,
 "nbformat_minor": 5
}
