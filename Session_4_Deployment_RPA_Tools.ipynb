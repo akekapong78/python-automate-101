{
 "cells": [
  {"cell_type": "markdown","metadata": {},"source": ["# Session 4: Deployment & RPA Tools\n## Python to EXE + Task Scheduler + API + RPA Tools"]},
  {"cell_type": "code","execution_count": null,"metadata": {},"outputs": [],"source": [
    "# Python to EXE: ใช้ pyinstaller\n# !pyinstaller --onefile your_script.py"
  ]},
  {"cell_type": "code","execution_count": null,"metadata": {},"outputs": [],"source": [
    "# Task Scheduler: ตั้งเวลาให้รัน your_script.py"
  ]},
  {"cell_type": "code","execution_count": null,"metadata": {},"outputs": [],"source": [
    "import requests\n\nresponse = requests.get('https://jsonplaceholder.typicode.com/todos/1')\ndata = response.json()\nprint(data)"
  ]},
  {"cell_type": "markdown","metadata": {},"source": [
    "## RPA Tools Overview\n- Microsoft Power Automate: Flow Basics\n- UiPath: Concept and Demo"
  ]}
 ],
 "metadata": {"kernelspec": {"name": "python3","display_name": "Python 3","language": "python"}},
 "nbformat": 4,
 "nbformat_minor": 5
}