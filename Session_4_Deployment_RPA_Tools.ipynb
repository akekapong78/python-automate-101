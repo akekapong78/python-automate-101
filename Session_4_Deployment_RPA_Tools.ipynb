{
  "cells": [
    {
      "cell_type": "markdown",
      "id": "94c9931e",
      "metadata": {},
      "source": [
        "# Session 4: Deployment & RPA Tools\n",
        "## Python to EXE + Task Scheduler + API + RPA Tools"
      ]
    },
    {
      "cell_type": "code",
      "execution_count": null,
      "id": "fabb39ed",
      "metadata": {},
      "outputs": [],
      "source": [
        "# Python to EXE: ใช้ pyinstaller\n",
        "# !pyinstaller --onefile your_script.py"
      ]
    },
    {
      "cell_type": "code",
      "execution_count": null,
      "id": "882518cf",
      "metadata": {},
      "outputs": [],
      "source": [
        "# Task Scheduler: ตั้งเวลาให้รัน your_script.py"
      ]
    },
    {
      "cell_type": "code",
      "execution_count": null,
      "id": "d61760f9",
      "metadata": {},
      "outputs": [],
      "source": [
        "import requests\n",
        "\n",
        "response = requests.get('https://jsonplaceholder.typicode.com/todos/1')\n",
        "data = response.json()\n",
        "print(data)"
      ]
    },
    {
      "cell_type": "markdown",
      "id": "b327aa20",
      "metadata": {},
      "source": [
        "## RPA Tools Overview\n",
        "- Microsoft Power Automate: Flow Basics\n",
        "- UiPath: Concept and Demo"
      ]
    }
  ],
  "metadata": {
    "kernelspec": {
      "display_name": "Python 3",
      "language": "python",
      "name": "python3"
    }
  },
  "nbformat": 4,
  "nbformat_minor": 5
}
