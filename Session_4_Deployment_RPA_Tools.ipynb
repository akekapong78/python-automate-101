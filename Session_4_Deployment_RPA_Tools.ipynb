{
  "cells": [
    {
      "cell_type": "markdown",
      "id": "960f5076",
      "metadata": {},
      "source": [
        "# Session 4: Deployment & RPA Tools\n"
      ]
    },
    {
      "cell_type": "markdown",
      "id": "c86c80ef",
      "metadata": {},
      "source": [
        "---\n",
        "\n",
        "## Final Project\n",
        "- อยากให้ทุกคนช่วยกันประเมินผลการเรียนวันนี้ โดยการสร้าง RPA script ของเรา เพื่อ loop ตอบแบบสอบถาม เงื่อนไข ดังนี้\n",
        "1. ดาว์นโหลด CSV template จาก Google Sheet ใน Session 2 สำหรับใช้เป็น excel template\n",
        "2. สร้างคอลัมม์ status ใน excel template เพื่อเก็บผลลัพธ๋การส่งข้อมูล โดยให้ Mockup ค่าตัวอย่างจำนวน 5 rows\n",
        "3. นำ script การตอบแบบสอบถามด้่วย Playwright มา loop โดยใช้ข้อมูลจาก excel template ที่เรียกเข้ามาชนิด Dataframe (df)\n",
        "4. ในแต่ละ loop หากส่งสำเร็จ ให้นำยอด จำนวนตอบแบบสอบถาม มาบันทึกลงในคอลัมม์ status หากไม่สำเร็จให้ลงว่า Fail\n",
        "5. บันทึก excel template ที่มีสถานะการส่งข้อมูล [Optional เขียนรายงานสรุป PDF จาก df ที่มีอยู่\n",
        "6. build เป็นไฟล์ .exe ไว้ในโฟลเดอร์โปรเจ็ค\n",
        "7. ตั้งค่าเวลาการทำงานให้กับไฟล์ .exe แล้วตรวจสอบผลการทำงาน"
      ]
    },
    {
      "cell_type": "code",
      "execution_count": null,
      "id": "e43cb438",
      "metadata": {},
      "outputs": [],
      "source": [
        "# ช่วยกันทำได้เลยเด้อ\n",
        "# ยังไม่มีเฉลย :)\n",
        "\n",
        "\n",
        "\n"
      ]
    },
    {
      "cell_type": "markdown",
      "id": "1e06e4b8",
      "metadata": {},
      "source": [
        "---\n",
        "\n",
        "## Pyinstaller - เป็นไลบรารี่ที่ช่วยในการ build file python to EXE "
      ]
    },
    {
      "cell_type": "code",
      "execution_count": null,
      "id": "4e8eed11",
      "metadata": {},
      "outputs": [],
      "source": [
        "# uv add pyinstaller"
      ]
    },
    {
      "cell_type": "markdown",
      "id": "c1e4a7bb",
      "metadata": {},
      "source": [
        "- คำสั่ง build python โดยไฟล์ที่ build เสร็จจะอยู่ในโฟลเดอร์ /dist"
      ]
    },
    {
      "cell_type": "code",
      "execution_count": null,
      "id": "b083ea6c",
      "metadata": {},
      "outputs": [],
      "source": [
        "!uv run pyinstaller --onefile main.py\n"
      ]
    },
    {
      "cell_type": "code",
      "execution_count": null,
      "id": "cb702ff6",
      "metadata": {},
      "outputs": [],
      "source": [
        "!uv run pyinstaller main.py --clean\n",
        "\n"
      ]
    },
    {
      "cell_type": "markdown",
      "id": "6f13599e",
      "metadata": {},
      "source": [
        "---\n",
        "\n",
        "## Task Scheduler - เครื่องมือสำหรับตั้งเวลา การทำงานให้ service หรือ application ของเราได้"
      ]
    },
    {
      "cell_type": "code",
      "execution_count": null,
      "id": "7510638b",
      "metadata": {},
      "outputs": [],
      "source": [
        "# Task Scheduler: ตั้งเวลาให้รัน your_script.py"
      ]
    },
    {
      "cell_type": "markdown",
      "id": "bafbfa5e",
      "metadata": {},
      "source": [
        "---\n",
        "## RPA Tools Overview\n",
        "- Microsoft Power Automate: Flow Basics\n",
        "- UiPath: Concept and Demo"
      ]
    }
  ],
  "metadata": {
    "kernelspec": {
      "display_name": "teach-python-101",
      "language": "python",
      "name": "python3"
    },
    "language_info": {
      "codemirror_mode": {
        "name": "ipython",
        "version": 3
      },
      "file_extension": ".py",
      "mimetype": "text/x-python",
      "name": "python",
      "nbconvert_exporter": "python",
      "pygments_lexer": "ipython3",
      "version": "3.13.5"
    }
  },
  "nbformat": 4,
  "nbformat_minor": 5
}
