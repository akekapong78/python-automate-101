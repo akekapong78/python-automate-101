{
  "cells": [
    {
      "cell_type": "markdown",
      "metadata": {},
      "source": [
        "# Session 1: Python Automation Basics\n",
        "## OS Library + Excel/Word Automation"
      ]
    },
    {
      "cell_type": "code",
      "execution_count": null,
      "id": "a09bbfd1",
      "metadata": {},
      "outputs": [],
      "source": [
        "# uv init\n",
        "# uv venv\n",
        "import os\n",
        "\n",
        "# สร้างโฟลเดอร์\n",
        "os.makedirs('TestFolder', exist_ok=True)\n",
        "\n",
        "# สร้างไฟล์\n",
        "with open('TestFolder/sample.txt','w',encoding='utf-8') as f:\n",
        "    f.write('Hello Automation!')"
      ]
    },
    {
      "cell_type": "code",
      "execution_count": null,
      "id": "5763f56b",
      "metadata": {},
      "outputs": [],
      "source": [
        "# ลบไฟล์\n",
        "os.remove('TestFolder/sample.txt')\n",
        "# ลบโฟลเดอร์\n",
        "os.rmdir('TestFolder')"
      ]
    },
    {
      "cell_type": "code",
      "execution_count": 7,
      "id": "7dd36eda",
      "metadata": {},
      "outputs": [],
      "source": [
        "# uv add openpyxl\n",
        "from openpyxl import Workbook, load_workbook\n",
        "\n",
        "# สร้าง Excel\n",
        "wb = Workbook()\n",
        "ws = wb.active\n",
        "ws['A1'] = 'Name'\n",
        "ws['B1'] = 'Age'\n",
        "ws.append(['Ake',7])\n",
        "ws.append(['John',37])\n",
        "wb.save('sample.xlsx')"
      ]
    },
    {
      "cell_type": "code",
      "execution_count": 8,
      "id": "f996a1f8",
      "metadata": {},
      "outputs": [
        {
          "name": "stdout",
          "output_type": "stream",
          "text": [
            "('Name', 'Age')\n",
            "('Ake', 7)\n",
            "('John', 37)\n"
          ]
        }
      ],
      "source": [
        "# อ่าน Excel\n",
        "wb2 = load_workbook('sample.xlsx')\n",
        "ws2 = wb2.active\n",
        "for row in ws2.iter_rows(values_only=True):\n",
        "    print(row)"
      ]
    },
    {
      "cell_type": "code",
      "execution_count": 9,
      "id": "3d2450d8",
      "metadata": {},
      "outputs": [],
      "source": [
        "# uv add python-docx  \n",
        "from docx import Document\n",
        "\n",
        "# สร้าง Word template\n",
        "doc = Document()\n",
        "doc.add_paragraph('Name: {name}')\n",
        "doc.add_paragraph('Age: {age}')\n",
        "doc.save('template.docx')"
      ]
    },
    {
      "cell_type": "code",
      "execution_count": 10,
      "id": "198c3d58",
      "metadata": {},
      "outputs": [],
      "source": [
        "# อ่านและแทนค่า\n",
        "doc2 = Document('template.docx')\n",
        "for p in doc2.paragraphs:\n",
        "    if '{name}' in p.text:\n",
        "        p.text = p.text.replace('{name}','Ake')\n",
        "    if '{age}' in p.text:\n",
        "        p.text = p.text.replace('{age}','7')\n",
        "doc2.save('filled.docx')"
      ]
    }
  ],
  "metadata": {
    "kernelspec": {
      "display_name": "teach-python-101",
      "language": "python",
      "name": "python3"
    },
    "language_info": {
      "codemirror_mode": {
        "name": "ipython",
        "version": 3
      },
      "file_extension": ".py",
      "mimetype": "text/x-python",
      "name": "python",
      "nbconvert_exporter": "python",
      "pygments_lexer": "ipython3",
      "version": "3.11.12"
    }
  },
  "nbformat": 4,
  "nbformat_minor": 5
}
