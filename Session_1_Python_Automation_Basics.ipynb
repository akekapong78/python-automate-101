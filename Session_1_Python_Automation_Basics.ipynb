{
 "cells": [
  {"cell_type": "markdown","metadata": {},"source": ["# Session 1: Python Automation Basics\n## OS Library + Excel/Word Automation"]},
  {"cell_type": "code","execution_count": null,"metadata": {},"outputs": [],"source": [
    "import os\n\n# สร้างโฟลเดอร์\nos.makedirs('TestFolder', exist_ok=True)\n# สร้างไฟล์\nwith open('TestFolder/sample.txt','w',encoding='utf-8') as f:\n    f.write('Hello Automation!')\n# ลบไฟล์\nos.remove('TestFolder/sample.txt')\n# ลบโฟลเดอร์\nos.rmdir('TestFolder')"
  ]},
  {"cell_type": "code","execution_count": null,"metadata": {},"outputs": [],"source": [
    "from openpyxl import Workbook, load_workbook\n\n# สร้าง Excel\nwb = Workbook()\nws = wb.active\nws['A1'] = 'Name'\nws['B1'] = 'Age'\nws.append(['Ake',7])\nwb.save('sample.xlsx')\n\n# อ่าน Excel\nwb2 = load_workbook('sample.xlsx')\nws2 = wb2.active\nfor row in ws2.iter_rows(values_only=True):\n    print(row)"
  ]},
  {"cell_type": "code","execution_count": null,"metadata": {},"outputs": [],"source": [
    "from docx import Document\n\n# สร้าง Word template\ndoc = Document()\ndoc.add_paragraph('Name: {name}')\ndoc.add_paragraph('Age: {age}')\ndoc.save('template.docx')\n\n# อ่านและแทนค่า\ndoc2 = Document('template.docx')\nfor p in doc2.paragraphs:\n    if '{name}' in p.text:\n        p.text = p.text.replace('{name}','Ake')\n    if '{age}' in p.text:\n        p.text = p.text.replace('{age}','7')\ndoc2.save('filled.docx')"
  ]}
 ],
 "metadata": {"kernelspec": {"name": "python3","display_name": "Python 3","language": "python"}},
 "nbformat": 4,
 "nbformat_minor": 5
}