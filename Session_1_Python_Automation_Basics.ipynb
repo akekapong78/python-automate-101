{
  "cells": [
    {
      "cell_type": "markdown",
      "metadata": {},
      "source": [
        "# Session 1: Python handle files basics\n",
        "## OS Library - จัดการ Folder"
      ]
    },
    {
      "cell_type": "code",
      "execution_count": null,
      "id": "a09bbfd1",
      "metadata": {},
      "outputs": [],
      "source": [
        "# uv init\n",
        "# uv venv\n",
        "import os\n",
        "\n",
        "# สร้างโฟลเดอร์\n",
        "os.makedirs('TestFolder', exist_ok=True)\n",
        "\n",
        "# สร้างไฟล์\n",
        "with open('TestFolder/sample.txt','w',encoding='utf-8') as f:\n",
        "    f.write('Hello Automation!')"
      ]
    },
    {
      "cell_type": "markdown",
      "id": "0bf273f7",
      "metadata": {},
      "source": [
        "### โหมดการเปิดไฟล์หลัก\n",
        "\n",
        "-   **'r'** (read): โหมดนี้ใช้สำหรับ **อ่าน** ไฟล์เท่านั้น. คุณไม่สามารถเขียนหรือแก้ไขไฟล์ได้. หากไฟล์ไม่มีอยู่จะเกิดข้อผิดพลาด `FileNotFoundError`. นี่คือโหมดเริ่มต้นหากคุณไม่ได้ระบุโหมดใด ๆ.\n",
        "-   **'w'** (write): โหมดนี้ใช้สำหรับ **เขียน** ไฟล์.\n",
        "    -   หากไฟล์มีอยู่แล้ว ข้อมูลเดิมทั้งหมดจะถูก **ลบทิ้ง** แล้วเขียนข้อมูลใหม่ลงไป.\n",
        "    -   หากไฟล์ไม่มีอยู่ ระบบจะ **สร้างไฟล์ใหม่** ให้โดยอัตโนมัติ.\n",
        "-   **'a'** (append): โหมดนี้ใช้สำหรับ **เขียนข้อมูลเพิ่มเติม** ลงในไฟล์. ข้อมูลใหม่จะถูกเขียนต่อท้ายข้อมูลเดิมที่มีอยู่แล้วในไฟล์. หากไฟล์ไม่มีอยู่ ระบบจะสร้างไฟล์ใหม่ให้.\n",
        "\n",
        "---\n",
        "\n",
        "### การจัดการข้อมูลแบบไบนารี (Binary)\n",
        "\n",
        "นอกเหนือจากโหมดหลักข้างต้น, คุณสามารถเพิ่มตัวอักษร 'b' เพื่อระบุว่าไฟล์นั้นเป็น **ไฟล์ไบนารี** (เช่น รูปภาพ, ไฟล์ PDF, ไฟล์วิดีโอ หรือไฟล์เสียง). การทำงานกับไฟล์ไบนารีจะแตกต่างจากการทำงานกับไฟล์ข้อความ (text file) ตรงที่ข้อมูลจะถูกอ่านและเขียนเป็นไบต์ (bytes) โดยตรง แทนที่จะเป็นสตริง (string).\n",
        "\n",
        "-   **'rb'** (read binary): อ่านไฟล์ในโหมดไบนารี. เช่น การอ่านไฟล์รูปภาพ.\n",
        "-   **'wb'** (write binary): เขียนไฟล์ในโหมดไบนารี.\n",
        "    -   **'wb'** ที่เห็นในโค้ด `open('merged.pdf','wb')` หมายถึงการเปิดไฟล์ชื่อ `merged.pdf` เพื่อ **เขียนในโหมดไบนารี**. เนื่องจากไฟล์ PDF เป็นไฟล์ไบนารี, จึงจำเป็นต้องใช้โหมดนี้เพื่อเขียนข้อมูลไบต์ลงไป.\n",
        "-   **'ab'** (append binary): เขียนข้อมูลเพิ่มเติมลงในไฟล์ในโหมดไบนารี.\n",
        "\n",
        "---\n",
        "\n",
        "### โหมดอื่น ๆ ที่สำคัญ\n",
        "\n",
        "-   **'x'** (exclusive creation): ใช้สำหรับ **สร้างไฟล์ใหม่เท่านั้น**. หากไฟล์นั้นมีอยู่แล้ว จะเกิดข้อผิดพลาด `FileExistsError`.\n",
        "-   **'t'** (text): โหมดเริ่มต้นสำหรับการจัดการไฟล์ข้อความ (text file). คุณสามารถระบุ `rt` หรือ `wt` ก็ได้ แต่โดยทั่วไปมักจะไม่ระบุเพราะเป็นค่าเริ่มต้นอยู่แล้ว.\n",
        "-   **'+'** (update): เพิ่มโหมดนี้เพื่ออนุญาตให้ **อ่านและเขียน** ได้ในเวลาเดียวกัน.\n",
        "    -   **'r+'**: อ่านและเขียน. โดยเริ่มจากการอ่าน และคุณสามารถเขียนทับข้อมูลเดิมในตำแหน่งปัจจุบันได้.\n",
        "    -   **'w+'**: เขียนและอ่าน. จะลบข้อมูลเก่าทิ้งทั้งหมดก่อน แล้วจึงสามารถเขียนและอ่านไฟล์ได้.\n",
        "    -   **'a+'**: เขียนเพิ่มเติมและอ่าน. จะเขียนต่อท้ายไฟล์และยังสามารถอ่านไฟล์ได้."
      ]
    },
    {
      "cell_type": "code",
      "execution_count": 58,
      "id": "5763f56b",
      "metadata": {},
      "outputs": [],
      "source": [
        "# ลบไฟล์\n",
        "os.remove('TestFolder/sample.txt')\n",
        "# ลบโฟลเดอร์\n",
        "os.rmdir('TestFolder')"
      ]
    },
    {
      "cell_type": "markdown",
      "id": "62e9d670",
      "metadata": {},
      "source": [
        "## Openpyxl - จัดการไฟล์ Excel"
      ]
    },
    {
      "cell_type": "code",
      "execution_count": null,
      "id": "7dd36eda",
      "metadata": {},
      "outputs": [],
      "source": [
        "# uv add openpyxl\n",
        "from openpyxl import Workbook, load_workbook\n",
        "\n",
        "# สร้าง Excel\n",
        "wb = Workbook()\n",
        "ws = wb.active\n",
        "ws['A1'] = 'Name'\n",
        "ws['B1'] = 'Age'\n",
        "ws.append(['Ake',7])\n",
        "ws.append(['John',37])\n",
        "wb.save('sample.xlsx')"
      ]
    },
    {
      "cell_type": "code",
      "execution_count": null,
      "id": "f996a1f8",
      "metadata": {},
      "outputs": [],
      "source": [
        "# อ่าน Excel\n",
        "wb2 = load_workbook('sample.xlsx')\n",
        "ws2 = wb2.active\n",
        "for row in ws2.iter_rows(values_only=True):\n",
        "    print(row)"
      ]
    },
    {
      "cell_type": "code",
      "execution_count": null,
      "id": "9140f7b7",
      "metadata": {},
      "outputs": [],
      "source": [
        "# ลบไฟล์\n",
        "import os\n",
        "\n",
        "os.remove('sample.xlsx')"
      ]
    },
    {
      "cell_type": "markdown",
      "id": "7641cee2",
      "metadata": {},
      "source": [
        "## Python-docx - จัดการไฟล์ Word"
      ]
    },
    {
      "cell_type": "code",
      "execution_count": null,
      "id": "3d2450d8",
      "metadata": {},
      "outputs": [],
      "source": [
        "# uv add python-docx  \n",
        "from docx import Document\n",
        "\n",
        "# สร้าง Word template\n",
        "doc = Document()\n",
        "doc.add_paragraph('Name: {name}')\n",
        "doc.add_paragraph('Age: {age}')\n",
        "doc.save('template.docx')"
      ]
    },
    {
      "cell_type": "code",
      "execution_count": null,
      "id": "198c3d58",
      "metadata": {},
      "outputs": [],
      "source": [
        "# อ่านและแทนค่า\n",
        "doc2 = Document('template.docx')\n",
        "for p in doc2.paragraphs:\n",
        "    if '{name}' in p.text:\n",
        "        p.text = p.text.replace('{name}','Ake')\n",
        "    if '{age}' in p.text:\n",
        "        p.text = p.text.replace('{age}','7')\n",
        "doc2.save('filled.docx')"
      ]
    },
    {
      "cell_type": "code",
      "execution_count": null,
      "id": "b2781b72",
      "metadata": {},
      "outputs": [],
      "source": [
        "# ลบไฟล์\n",
        "import os\n",
        "\n",
        "try:\n",
        "    os.remove('template.docx')\n",
        "    os.remove('filled.docx')\n",
        "except:\n",
        "    print('files aready remove')"
      ]
    },
    {
      "cell_type": "markdown",
      "id": "6909818f",
      "metadata": {},
      "source": [
        "## PyPDF2 - จัดการไฟล์ PDF"
      ]
    },
    {
      "cell_type": "code",
      "execution_count": null,
      "id": "90dfa6db",
      "metadata": {},
      "outputs": [],
      "source": [
        "# uv add docx2pdf\n",
        "from docx2pdf import convert\n",
        "\n",
        "# สร้าง/convert ไฟล์ pdf\n",
        "convert('filled.docx', 'filled2.pdf')"
      ]
    },
    {
      "cell_type": "code",
      "execution_count": null,
      "id": "6e763f6b",
      "metadata": {},
      "outputs": [],
      "source": [
        "# uv add pypdf2\n",
        "from PyPDF2 import PdfReader, PdfWriter\n",
        "\n",
        "# อ่าน PDF\n",
        "reader = PdfReader('filled.pdf')\n",
        "for page in reader.pages:\n",
        "    print(page.extract_text())"
      ]
    },
    {
      "cell_type": "code",
      "execution_count": null,
      "id": "6208688d",
      "metadata": {},
      "outputs": [],
      "source": [
        "# รวม PDF\n",
        "writer = PdfWriter()\n",
        "for filename in ['filled.pdf','filled2.pdf']:\n",
        "    r = PdfReader(filename)\n",
        "    for page in r.pages:\n",
        "        writer.add_page(page)\n",
        "with open('merged.pdf','wb') as f:\n",
        "    writer.write(f)"
      ]
    },
    {
      "cell_type": "code",
      "execution_count": null,
      "id": "260accf7",
      "metadata": {},
      "outputs": [],
      "source": [
        "# ลบไฟล์\n",
        "import os\n",
        "\n",
        "try:\n",
        "    os.remove('filled.pdf')\n",
        "    os.remove('filled2.pdf')\n",
        "    os.remove('merged.pdf')\n",
        "except:\n",
        "    print('files aready removed')"
      ]
    },
    {
      "cell_type": "markdown",
      "id": "ee65b325",
      "metadata": {},
      "source": [
        "## Json - จัดการข้อมูลชนิด JSON"
      ]
    },
    {
      "cell_type": "markdown",
      "id": "edd8f5b2",
      "metadata": {},
      "source": [
        "#### Convert Python dictionary to a JSON formatted string"
      ]
    },
    {
      "cell_type": "code",
      "execution_count": null,
      "id": "084ab87f",
      "metadata": {},
      "outputs": [],
      "source": [
        "import json\n",
        "\n",
        "# A Python dictionary\n",
        "student_data = {\n",
        "    \"name\": \"Ake\",\n",
        "    \"age\": 25,\n",
        "    \"is_enrolled\": True,\n",
        "    \"courses\": [\"Math\", \"History\", \"Physics\"],\n",
        "    \"grades\": {\n",
        "        \"Math\": 95,\n",
        "        \"History\": 88\n",
        "    },\n",
        "    \"gpa\": 3.75\n",
        "}\n",
        "\n",
        "\n",
        "# 'dumps' stands for \"dump string\"\n",
        "json_string = json.dumps(student_data)\n",
        "\n",
        "print(\"Original Python Dictionary:\")\n",
        "print(student_data)\n",
        "print(f\"Type: {type(student_data)}\\n\")\n",
        "\n",
        "print(\"JSON String:\")\n",
        "print(json_string)\n",
        "print(f\"Type: {type(json_string)}\")"
      ]
    },
    {
      "cell_type": "code",
      "execution_count": null,
      "id": "985428ad",
      "metadata": {},
      "outputs": [],
      "source": [
        "print(student_data['name'])\n",
        "print(json_string['name'])"
      ]
    },
    {
      "cell_type": "code",
      "execution_count": null,
      "id": "02d28345",
      "metadata": {},
      "outputs": [],
      "source": [
        "try:\n",
        "    print(student_data['name'])\n",
        "    print(json_string['name'])\n",
        "except TypeError as e:\n",
        "    print(f\"An error occurred: {e}\")\n"
      ]
    },
    {
      "cell_type": "code",
      "execution_count": null,
      "id": "7d97747a",
      "metadata": {},
      "outputs": [],
      "source": [
        "for key, value in student_data.items():\n",
        "    print(f\"{key}: {value}\")"
      ]
    },
    {
      "cell_type": "markdown",
      "id": "ee95a6e1",
      "metadata": {},
      "source": [
        "#### Convert JSON string to a Python dictionary"
      ]
    },
    {
      "cell_type": "code",
      "execution_count": null,
      "id": "396f2c99",
      "metadata": {},
      "outputs": [],
      "source": [
        "# Let's use the JSON string we created earlier\n",
        "json_string = '{\"name\": \"Ake\", \"age\": 25, \"is_enrolled\": true, \"courses\": [\"Math\", \"History\", \"Physics\"], \"grades\": {\"Math\": 95, \"History\": 88}, \"gpa\": 3.75}'\n",
        "\n",
        "# 'loads' stands for \"load string\"\n",
        "python_dict = json.loads(json_string)\n",
        "\n",
        "print(\"Original JSON String:\")\n",
        "print(json_string)\n",
        "print(f\"Type: {type(json_string)}\\n\")\n",
        "\n",
        "print(\"Converted Python Dictionary:\")\n",
        "print(python_dict)\n",
        "print(f\"Type: {type(python_dict)}\\n\")\n",
        "\n",
        "# You can now access the data like a normal dictionary\n",
        "print(f\"Student Name: {python_dict['name']}\")\n",
        "print(f\"First Course: {python_dict['courses'][0]}\")"
      ]
    }
  ],
  "metadata": {
    "kernelspec": {
      "display_name": "teach-python-101",
      "language": "python",
      "name": "python3"
    },
    "language_info": {
      "codemirror_mode": {
        "name": "ipython",
        "version": 3
      },
      "file_extension": ".py",
      "mimetype": "text/x-python",
      "name": "python",
      "nbconvert_exporter": "python",
      "pygments_lexer": "ipython3",
      "version": "3.11.12"
    }
  },
  "nbformat": 4,
  "nbformat_minor": 5
}
