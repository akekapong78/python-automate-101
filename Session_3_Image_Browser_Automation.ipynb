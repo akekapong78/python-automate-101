{
  "cells": [
    {
      "cell_type": "markdown",
      "metadata": {},
      "source": [
        "# Session 3: Image & Browser Automation\n",
        "---"
      ]
    },
    {
      "cell_type": "markdown",
      "id": "fa425ff1",
      "metadata": {},
      "source": [
        "## PyAutoGUI - เป็นไลบรารีที่ใช้ในการทำ Automation โดยจะจำลองการทำงานของมนุษย์ "
      ]
    },
    {
      "cell_type": "markdown",
      "id": "b6ba4cfb",
      "metadata": {},
      "source": [
        "- เช่น การควบคุมเมาส์และคีย์บอร์ด โดยความสามารถที่โดดเด่นอย่างหนึ่งคือการค้นหา และทำงานกับภาพหน้าจอ\n",
        "- PyAutoGUI สามารถค้นหาตำแหน่งของรูปภาพบนหน้าจอได้โดยใช้ฟังก์ชัน pyautogui.locateOnScreen(). \n",
        "- เมื่อเจอแล้ว จะคืนค่าพิกัด (x, y) และขนาด (width, height) ของภาพนั้นกลับมา จากนั้นคุณก็สามารถใช้ข้อมูลนี้เพื่อสั่งให้เมาส์คลิกหรือทำงานอื่น ๆ ได้\n",
        "\n",
        "การเตรียมรูปภาพ 📸\n",
        "- ขั้นตอนที่สำคัญที่สุดคือการเตรียมรูปภาพที่ต้องการค้นหาบนหน้าจอ โดยคุณสามารถใช้โปรแกรมตัดภาพทั่วไปเพื่อจับภาพปุ่มหรือไอคอนที่ต้องการทำงานด้วย และบันทึกเป็นไฟล์ .png\n",
        "\n",
        "ข้อควรระวัง:\n",
        "- รูปภาพที่ใช้ต้อง เหมือนกับบนหน้าจอทุกประการ รวมถึงสีและแสงเงา\n",
        "- ควร ตัดภาพให้มีขนาดเล็กที่สุด เพื่อให้การค้นหามีประสิทธิภาพ\n",
        "- หากมีหลายหน้าจอ ควรระบุหน้าจอที่ถูกต้อง"
      ]
    },
    {
      "cell_type": "markdown",
      "id": "fea11bb2",
      "metadata": {},
      "source": [
        "1. การคลิกเมาส์และพิมพ์ข้อความ 🖱️"
      ]
    },
    {
      "cell_type": "code",
      "execution_count": null,
      "id": "5100eab8",
      "metadata": {},
      "outputs": [],
      "source": [
        "# uv add pyautogui\n",
        "# Windows User\n",
        "import pyautogui\n",
        "import time\n",
        "\n",
        "# กำหนดชื่อไฟล์รูปภาพของปุ่ม Start\n",
        "start_img = 'CleanShot 2025-08-29 at 20.19.07.png'\n",
        "\n",
        "# รอสักครู่เพื่อให้มีเวลาเปิดหน้าต่างที่ต้องการทำงานด้วย\n",
        "time.sleep(3) \n",
        "\n",
        "try:\n",
        "    button_location = pyautogui.locateOnScreen(start_img)\n",
        "    \n",
        "    if button_location is not None:\n",
        "        print(f\"พบปุ่ม Start ที่ตำแหน่ง: {button_location}\")\n",
        "        \n",
        "        # คำนวณจุดกึ่งกลางของรูปภาพ\n",
        "        button_center = pyautogui.center(button_location)\n",
        "        print(f\"จุดกึ่งกลาง: {button_center}\")\n",
        "        \n",
        "        # เลื่อนเมาส์ไปที่จุดกึ่งกลางและคลิก\n",
        "        pyautogui.click(button_center)\n",
        "\n",
        "        # กดปุ่มลูกศรลง 4 ครั้ง เพื่อเลื่อนไปยังเมนู \"Run\"\n",
        "        pyautogui.press('down', presses=4, interval=0.2)\n",
        "        \n",
        "        # กด Enter เพื่อเปิดเมนู \"Run\"\n",
        "        pyautogui.press('enter')\n",
        "\n",
        "        # รอ 1 วินาทีเพื่อให้หน้าต่าง Run เปิดขึ้นมา\n",
        "        time.sleep(1)\n",
        "\n",
        "        # พิมพ์คำสั่ง \"notepad\" ลงในช่อง\n",
        "        pyautogui.write('notepad', interval=0.1)\n",
        "        time.sleep(0.3)\n",
        "\n",
        "        # กด Enter เพื่อเปิดโปรแกรม Notepad\n",
        "        pyautogui.press('enter')\n",
        "\n",
        "        # Screen short\n",
        "        im = pyautogui.screenshot('my_screenshot.png')\n",
        "        im.show() # im.save()\n",
        "        print('Done capture: ', im)\n",
        "\n",
        "    else:\n",
        "        print(\"ไม่พบปุ่ม Start บนหน้าจอ\")\n",
        "\n",
        "except Exception as e:\n",
        "    print(f\"เกิดข้อผิดพลาด: {e}\")"
      ]
    },
    {
      "cell_type": "code",
      "execution_count": null,
      "id": "8751f540",
      "metadata": {},
      "outputs": [],
      "source": [
        "# Windows User\n",
        "import pyautogui\n",
        "import time\n",
        "\n",
        "def open_notepad_win():\n",
        "    \"\"\"Opens Notepad and types a message on Windows.\"\"\"\n",
        "\n",
        "    # Press the 'Windows' key and 'r' key to open the Run dialog\n",
        "    pyautogui.hotkey('win', 'r')\n",
        "\n",
        "    # Wait for a moment to let the dialog open\n",
        "    time.sleep(1)\n",
        "\n",
        "    # Type \"notepad\" into the dialog\n",
        "    pyautogui.write('notepad')\n",
        "\n",
        "    # Press Enter to run the command\n",
        "    pyautogui.press('enter')\n",
        "\n",
        "    # Wait for Notepad to open\n",
        "    time.sleep(2)\n",
        "\n",
        "    # Type a message into Notepad\n",
        "    pyautogui.write('Hello from your Windows bot!', interval=0.1)\n",
        "\n",
        "    # Screen short\n",
        "    im = pyautogui.screenshot('my_screenshot.png')\n",
        "    im.show() # im.save()\n",
        "    print('Done capture: ', im)\n",
        "\n",
        "# Run the function for Windows\n",
        "print(\"Running automation for Windows...\")\n",
        "open_notepad_win()\n",
        "print(\"Done!\")"
      ]
    },
    {
      "cell_type": "code",
      "execution_count": null,
      "id": "0c33a317",
      "metadata": {},
      "outputs": [],
      "source": [
        "# Mac User\n",
        "import pyautogui\n",
        "import time\n",
        "\n",
        "# Wait for 3 seconds to give you time to switch to the correct window\n",
        "time.sleep(3)\n",
        "\n",
        "try:\n",
        "    pyautogui.hotkey('command', 'space')\n",
        "    print(\"Spotlight opened successfully using 'command' and 'space'\")\n",
        "\n",
        "    time.sleep(3)\n",
        "    # Type \"TextEdit\" into the search bar\n",
        "    pyautogui.write('TextEdit', interval=0.2)\n",
        "\n",
        "    # Press Enter to open the application\n",
        "    pyautogui.press('enter')\n",
        "\n",
        "    # Wait for TextEdit to open\n",
        "    time.sleep(3)\n",
        "    pyautogui.press('tab', presses=6, interval=0.2)\n",
        "    pyautogui.press('space')\n",
        "    \n",
        "    time.sleep(3)\n",
        "    # Type a message into the application\n",
        "    pyautogui.write('Hello from your macOS bot!', interval=0.1)\n",
        "\n",
        "    # Screen short\n",
        "    im = pyautogui.screenshot('my_screenshot.png')\n",
        "    im.show() # im.save()\n",
        "    print('Done capture: ', im)\n",
        "\n",
        "except Exception as e:\n",
        "    print(f\"Failed to open Spotlight: {e}\")"
      ]
    },
    {
      "cell_type": "markdown",
      "id": "fb7bc25c",
      "metadata": {},
      "source": [
        "2. การสร้าง Display และรับ Input"
      ]
    },
    {
      "cell_type": "code",
      "execution_count": null,
      "id": "b15c7d5e",
      "metadata": {},
      "outputs": [],
      "source": [
        "import pyautogui\n",
        "\n",
        " \n",
        "# a alert displays with a ok button\n",
        "# on it\n",
        "pyautogui.alert(text='', title='', button='OK')\n",
        "\n",
        "# a confirm dialog box appears with ok \n",
        "# and cancel buttons on it\n",
        "input_btn = pyautogui.confirm(text='', title='', buttons=['OK', 'Cancel'])\n",
        "\n",
        "# a prompt displays that lets you to \n",
        "# write something\n",
        "input_ui = pyautogui.prompt(text='', title='' , default='')\n",
        "\n",
        "# a password field appears with entry box \n",
        "# to fill a password \n",
        "input_pass = pyautogui.password(text='', title='', default='', mask='*')\n",
        "\n",
        "print('button: ', input_btn)\n",
        "print('input_ui: ', input_ui)\n",
        "print('password: ', input_pass)"
      ]
    },
    {
      "cell_type": "markdown",
      "id": "35bd8215",
      "metadata": {},
      "source": [
        "---\n",
        "\n",
        "## OpenCV - ประมวลผลภาพ (Computer Vision)\n",
        "- หนึ่งในฟังก์ชันที่มีประโยชน์มากที่สุดคือ cv.matchTemplate() ซึ่งใช้ในการค้นหาภาพเล็กๆ (Template) ภายในภาพใหญ่ๆ (Source)\n",
        "- matchTemplate() ทำงานโดยการเลื่อนภาพ Template ไปทีละพิกเซลบนภาพ Source และคำนวณคะแนนความคล้ายคลึง (Similarity Score) ในแต่ละตำแหน่ง หลังจากคำนวณเสร็จทั้งภาพ ผลลัพธ์ที่ได้จะเป็นแผนที่ความร้อน (Heatmap) ที่แสดงว่าแต่ละจุดบนภาพ Source มีความคล้ายคลึงกับ Template มากแค่ไหน โดยค่าที่สูงที่สุดในแผนที่ความร้อนนี้คือตำแหน่งที่มีความน่าจะเป็นที่จะพบ Template มากที่สุด"
      ]
    },
    {
      "cell_type": "code",
      "execution_count": null,
      "metadata": {},
      "outputs": [],
      "source": [
        "# uv add opencv-python numpy\n",
        "import cv2\n",
        "import numpy as np\n",
        "\n",
        "img = cv2.imread('screen.png',0)\n",
        "template = cv2.imread('button.png',0)\n",
        "res = cv2.matchTemplate(img,template,cv2.TM_CCOEFF_NORMED)\n",
        "min_val,max_val,min_loc,max_loc = cv2.minMaxLoc(res)\n",
        "print('Best match location:',max_loc)"
      ]
    },
    {
      "cell_type": "code",
      "execution_count": null,
      "id": "6cd16345",
      "metadata": {},
      "outputs": [],
      "source": [
        "import cv2\n",
        "import numpy as np\n",
        "\n",
        "# 1. โหลดภาพต้นฉบับ (Source) และภาพ Template (ภาพเล็กที่ต้องการค้นหา)\n",
        "# ตั้งค่าเป็นโหมดสีเทา (Grayscale) เพื่อลดความซับซ้อนในการคำนวณ\n",
        "source_image = cv2.imread('CleanShot 2025-08-29 at 21.29.50.png', cv2.IMREAD_GRAYSCALE)\n",
        "template_image = cv2.imread('CleanShot 2025-08-29 at 20.19.07.png', cv2.IMREAD_GRAYSCALE)\n",
        "\n",
        "if source_image is None or template_image is None:\n",
        "    print(\"Error: ไม่พบไฟล์ภาพ ตรวจสอบชื่อไฟล์และพาธอีกครั้ง\")\n",
        "else:\n",
        "    # 2. ค้นหาขนาดของภาพ Template\n",
        "    w, h = template_image.shape[::-1]\n",
        "\n",
        "    # 3. ใช้ cv.matchTemplate() เพื่อค้นหา\n",
        "    # cv.TM_CCOEFF_NORMED เป็นวิธีการที่นิยมใช้\n",
        "    result = cv2.matchTemplate(source_image, template_image, cv2.TM_CCOEFF_NORMED)\n",
        "\n",
        "    # 4. กำหนดค่า Threshold\n",
        "    # ค่ายิ่งสูงยิ่งหมายถึงการค้นหาที่แม่นยำขึ้น\n",
        "    threshold = 0.8\n",
        "    locations = np.where(result >= threshold)\n",
        "\n",
        "    # 5. วาดกรอบสี่เหลี่ยมรอบโลโก้ที่พบ\n",
        "    # zip(*locations) จะสลับแถวและคอลัมน์ของ locations\n",
        "    for pt in zip(*locations[::-1]):\n",
        "        # pt คือพิกัด (x, y) ของมุมบนซ้ายที่พบ Template\n",
        "        # (pt[0]+w, pt[1]+h) คือพิกัดของมุมล่างขวา\n",
        "        cv2.rectangle(source_image, pt, (pt[0] + w, pt[1] + h), (0, 0, 255), 2)\n",
        "        print(f\"พบโลโก้ที่พิกัด: {pt}\")\n",
        "\n",
        "    # 6. แสดงผลลัพธ์\n",
        "    cv2.imshow('Detected', source_image)\n",
        "    cv2.waitKey() # กดปุ่มใดๆ เพื่อหยุดการทำงาน\n",
        "    cv2.destroyAllWindows()"
      ]
    },
    {
      "cell_type": "markdown",
      "id": "bcd99301",
      "metadata": {},
      "source": [
        "---\n",
        "\n",
        "## PlayWright - เป็นไลบรารีที่ทรงพลังสำหรับการทดสอบและทำ Automation บนเว็บเพจ โดยรองรับหลายภาษาและสามารถทำงานได้กับเบราว์เซอร์หลักๆ ทั้งหมด"
      ]
    },
    {
      "cell_type": "code",
      "execution_count": null,
      "id": "e346860c",
      "metadata": {},
      "outputs": [],
      "source": [
        "# uv add playwrigth\n",
        "# uv run playwright install\n",
        "# ติดตั้ง Web Browser ที่ Playwright รองรับ (Chromium, Firefox, WebKit)\n",
        "\n",
        "url = 'https://docs.google.com/forms/d/e/1FAIpQLSczCeN375TPVdT7XN4KfqicQMDo3KosTAROX75OJJ7GPsMGVQ/viewform'"
      ]
    },
    {
      "cell_type": "markdown",
      "id": "b9aa2697",
      "metadata": {},
      "source": [
        "- Codegen - เครื่องมือในการช่วยเข้าถึง element ของ website หรือ selector พร้อมสร้างโค้ดในการ Test หรือทำ Automate ได้ง่ายมากๆ"
      ]
    },
    {
      "cell_type": "code",
      "execution_count": null,
      "id": "f7441013",
      "metadata": {},
      "outputs": [],
      "source": [
        "!uv run playwright codegen {url}"
      ]
    },
    {
      "cell_type": "markdown",
      "id": "ec20356a",
      "metadata": {},
      "source": [
        "- copy โค้ดที่ได้จาก Codegen ไปใส่ใน main.py"
      ]
    },
    {
      "cell_type": "code",
      "execution_count": null,
      "id": "1a44333c",
      "metadata": {},
      "outputs": [],
      "source": [
        "!uv run main.py"
      ]
    },
    {
      "cell_type": "code",
      "execution_count": null,
      "id": "d2cfbc1d",
      "metadata": {},
      "outputs": [],
      "source": [
        "# example main.py\n",
        "import re\n",
        "from playwright.sync_api import Playwright, sync_playwright, expect\n",
        "import time\n",
        "\n",
        "def run(playwright: Playwright) -> None:\n",
        "    browser = playwright.chromium.launch(headless=False)\n",
        "    context = browser.new_context()\n",
        "    page = context.new_page()\n",
        "    page.goto(\"https://docs.google.com/forms/d/e/1FAIpQLSczCeN375TPVdT7XN4KfqicQMDo3KosTAROX75OJJ7GPsMGVQ/viewform\")\n",
        "    page.get_by_role(\"radio\", name=\"นาย\").click()\n",
        "    page.get_by_role(\"textbox\", name=\"ชื่อ คำถามที่ต้องตอบ\").fill(\"เอกพงศ์\")\n",
        "    page.get_by_role(\"textbox\", name=\"สกุล คำถามที่ต้องตอบ\").fill(\"คงสวัสดิ์\")\n",
        "    page.get_by_role(\"textbox\", name=\"Email คำถามที่ต้องตอบ\").fill(\"ake@test.python.com\")\n",
        "    page.keyboard.press(\"Tab\")\n",
        "    for i in range(4):\n",
        "        time.sleep(0.3)\n",
        "        page.keyboard.press(\"ArrowDown\")\n",
        "    page.keyboard.press(\"Enter\")\n",
        "    time.sleep(0.3)\n",
        "    page.get_by_role(\"checkbox\", name=\"เคย\", exact=True).click()\n",
        "    page.get_by_role(\"textbox\", name=\"ความคิดเห็น (จัดเต็มมาเลย...) คำถามที่ต้องตอบ\").fill(\"เหนื่อยแล้วกาฟจาร\")\n",
        "    page.get_by_role(\"button\", name=\"Submit\").click()\n",
        "\n",
        "    # กด ดูการตอบกลับก่อนหน้า\n",
        "    with page.expect_popup() as page1_info:\n",
        "        page.get_by_role(\"link\", name=\"ดูการตอบกลับก่อนหน้า\").click()\n",
        "    page1 = page1_info.value\n",
        "\n",
        "    # รอให้เนื้อหาบนหน้าเว็บโหลดเสร็จ\n",
        "    page1.wait_for_selector('body')\n",
        "\n",
        "    # ดึงข้อความทั้งหมดใน body\n",
        "    body_text = page1.locator(\"body\").inner_text()\n",
        "    \n",
        "    # ใช้ Regular Expression เพื่อค้นหาและดึงตัวเลขจากข้อความ\n",
        "    # 're.search' จะหาข้อความที่ตรงกับรูปแบบที่กำหนด\n",
        "    match = re.search(r'การตอบกลับ (\\d+) รายการ', body_text)\n",
        "\n",
        "    if match:\n",
        "        # ดึงตัวเลขที่อยู่ภายในวงเล็บ (group 1)\n",
        "        response_count = match.group(1)\n",
        "        print(f\"จำนวนคำตอบที่พบ: {response_count} ข้อ\")\n",
        "    else:\n",
        "        print(\"ไม่พบข้อความ 'คำตอบ X ข้อ' บนหน้าเว็บ\")\n",
        "\n",
        "    # ---------------------\n",
        "    time.sleep(30)\n",
        "    context.close()\n",
        "    browser.close()\n",
        "\n",
        "\n",
        "with sync_playwright() as playwright:\n",
        "    run(playwright)\n"
      ]
    }
  ],
  "metadata": {
    "kernelspec": {
      "display_name": "teach-python-101",
      "language": "python",
      "name": "python3"
    },
    "language_info": {
      "codemirror_mode": {
        "name": "ipython",
        "version": 3
      },
      "file_extension": ".py",
      "mimetype": "text/x-python",
      "name": "python",
      "nbconvert_exporter": "python",
      "pygments_lexer": "ipython3",
      "version": "3.11.12"
    }
  },
  "nbformat": 4,
  "nbformat_minor": 5
}
