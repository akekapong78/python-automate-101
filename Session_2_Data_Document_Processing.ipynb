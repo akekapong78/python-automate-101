{
 "cells": [
  {"cell_type": "markdown","metadata": {},"source": ["# Session 2: Data & Document Processing\n## RegEx + PDF Automation"]},
  {"cell_type": "code","execution_count": null,"metadata": {},"outputs": [],"source": [
    "import re\ntext = 'Contact: ake@example.com, 0812345678, Proud Ake'\nemails = re.findall(r'\\S+@\\S+',text)\nphones = re.findall(r'\\d{9,10}',text)\nnames = re.findall(r'[A-Z][a-z]+ [A-Z][a-z]+',text)\nprint('Emails:',emails)\nprint('Phones:',phones)\nprint('Names:',names)"
  ]},
  {"cell_type": "code","execution_count": null,"metadata": {},"outputs": [],"source": [
    "from PyPDF2 import PdfReader, PdfWriter\n\n# อ่าน PDF\nreader = PdfReader('sample.pdf')\nfor page in reader.pages:\n    print(page.extract_text())\n\n# รวม PDF\nwriter = PdfWriter()\nfor filename in ['sample1.pdf','sample2.pdf']:\n    r = PdfReader(filename)\n    for page in r.pages:\n        writer.add_page(page)\nwith open('merged.pdf','wb') as f:\n    writer.write(f)"
  ]}
 ],
 "metadata": {"kernelspec": {"name": "python3","display_name": "Python 3","language": "python"}},
 "nbformat": 4,
 "nbformat_minor": 5
}