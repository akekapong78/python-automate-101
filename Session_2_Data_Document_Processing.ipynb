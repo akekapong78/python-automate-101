{
  "cells": [
    {
      "cell_type": "markdown",
      "metadata": {},
      "source": [
        "# Session 2: Data & Document Processing\n",
        "## RegEx + PDF Automation"
      ]
    },
    {
      "cell_type": "code",
      "execution_count": null,
      "metadata": {},
      "outputs": [],
      "source": [
        "import re\n",
        "text = 'Contact: ake@example.com, 0812345678, Proud Ake'\n",
        "emails = re.findall(r'\\S+@\\S+',text)\n",
        "phones = re.findall(r'\\d{9,10}',text)\n",
        "names = re.findall(r'[A-Z][a-z]+ [A-Z][a-z]+',text)\n",
        "print('Emails:',emails)\n",
        "print('Phones:',phones)\n",
        "print('Names:',names)"
      ]
    },
    {
      "cell_type": "code",
      "execution_count": null,
      "id": "0a8edc13",
      "metadata": {},
      "outputs": [],
      "source": [
        "from PyPDF2 import PdfReader, PdfWriter\n",
        "\n",
        "# อ่าน PDF\n",
        "reader = PdfReader('sample.pdf')\n",
        "for page in reader.pages:\n",
        "    print(page.extract_text())\n",
        "\n",
        "# รวม PDF\n",
        "writer = PdfWriter()\n",
        "for filename in ['sample1.pdf','sample2.pdf']:\n",
        "    r = PdfReader(filename)\n",
        "    for page in r.pages:\n",
        "        writer.add_page(page)\n",
        "with open('merged.pdf','wb') as f:\n",
        "    writer.write(f)"
      ]
    }
  ],
  "metadata": {
    "kernelspec": {
      "display_name": "Python 3",
      "language": "python",
      "name": "python3"
    }
  },
  "nbformat": 4,
  "nbformat_minor": 5
}
