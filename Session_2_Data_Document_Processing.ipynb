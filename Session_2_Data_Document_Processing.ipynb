{
  "cells": [
    {
      "cell_type": "markdown",
      "metadata": {},
      "source": [
        "# Session 2: Data & Document Processing\n",
        "## RegEx + PDF Automation"
      ]
    },
    {
      "cell_type": "code",
      "execution_count": null,
      "metadata": {},
      "outputs": [],
      "source": [
        "import re\n",
        "text = 'Contact: ake@example.com, 0812345678, Proud Ake'\n",
        "emails = re.findall(r'\\S+@\\S+',text)\n",
        "phones = re.findall(r'\\d{9,10}',text)\n",
        "names = re.findall(r'[A-Z][a-z]+ [A-Z][a-z]+',text)\n",
        "print('Emails:',emails)\n",
        "print('Phones:',phones)\n",
        "print('Names:',names)"
      ]
    }
  ],
  "metadata": {
    "kernelspec": {
      "display_name": "Python 3",
      "language": "python",
      "name": "python3"
    }
  },
  "nbformat": 4,
  "nbformat_minor": 5
}
