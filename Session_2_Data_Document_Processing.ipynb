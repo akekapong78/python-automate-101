{
  "cells": [
    {
      "cell_type": "markdown",
      "metadata": {},
      "source": [
        "# Session 2: Data & Document Processing"
      ]
    },
    {
      "cell_type": "markdown",
      "id": "ca71b0b1",
      "metadata": {},
      "source": [
        "## RE - Regular Expression (RegEx)\n",
        "- test RegEx : https://regexr.com/"
      ]
    },
    {
      "cell_type": "code",
      "execution_count": 5,
      "id": "f22d6ded",
      "metadata": {},
      "outputs": [
        {
          "name": "stdout",
          "output_type": "stream",
          "text": [
            "['081-234-5678', '090-876-5432']\n"
          ]
        }
      ],
      "source": [
        "import re\n",
        "\n",
        "text = 'หมายเลขโทรศัพท์: 081-234-5678, 090-876-5432, +66-89-123-4567'\n",
        "regex = r'\\d{3}-\\d{3}-\\d{4}'\n",
        "\n",
        "phone_numbers = re.findall(regex, text)\n",
        "print(phone_numbers)"
      ]
    },
    {
      "cell_type": "code",
      "execution_count": 6,
      "id": "32966324",
      "metadata": {},
      "outputs": [
        {
          "name": "stdout",
          "output_type": "stream",
          "text": [
            "akekapong@email.com\n",
            "None\n",
            "Akekapong Kongsavat\n"
          ]
        }
      ],
      "source": [
        "text = '''\n",
        "    first_name: Akekapong\n",
        "    last_name: Kongsavat\n",
        "    email: akekapong@email.com\n",
        "'''\n",
        "\n",
        "email = re.findall(r'\\w+@\\w+\\.\\w+', text)\n",
        "first_name = re.findall(r'(?<=first_name: )\\w+', text)\n",
        "last_name = re.findall(r'(?<=last_name: )\\w+', text)\n",
        "\n",
        "email_match = re.match(r'email: (\\w+@\\w+\\.\\w+)', text)\n",
        "\n",
        "print(email[0])\n",
        "print(email_match)\n",
        "print(f\"{first_name[0]} {last_name[0]}\")"
      ]
    },
    {
      "cell_type": "code",
      "execution_count": null,
      "id": "e62c8b61",
      "metadata": {},
      "outputs": [],
      "source": [
        "import re\n",
        "\n",
        "# example like extract data from PDF\n",
        "text = \"\"\"\n",
        "Introduction to Data Science and Text Analysis\n",
        "\n",
        "Welcome to the official documentation for our data analysis platform. For support,\n",
        "contact our team at support@dataplatform.com or reach out to our lead developer, \n",
        "Somchai Jareon, at somchai.jareon@techinnovate.co.th. Our office number is +66-2-555-1234.\n",
        "You can find more information on our website at https://www.dataplatform-solutions.io/get-started/.\n",
        "\n",
        "Project Milestones:\n",
        "1. Data Ingestion: Completed on 2024-05-15.\n",
        "2. Model Training: Completed on 2024-06-20.\n",
        "3. API Deployment: Target completion date is 2024-07-30.\n",
        "\n",
        "User Feedback Summary:\n",
        "- \"The platform is incredibly fast.\" - User ID: 1001\n",
        "- \"I found a bug with the export feature.\" - User ID: 1002\n",
        "- \"I'm looking forward to new features.\" - User ID: 1003\n",
        "\n",
        "Technical Specifications:\n",
        "- Version: 3.1.2\n",
        "- API Endpoint: /api/v1/data\n",
        "- IP Address: 192.168.1.10\n",
        "- Phone: (081) 234-5678, 092-876-5432, +66-89-123-4567\n",
        "\n",
        "Future Development:\n",
        "- We will be releasing a new version (4.0.0) next year.\n",
        "- Keep an eye on our blog at blog.dataplatform-solutions.io for updates.\n",
        "- Feedback can also be submitted to feedback@dataplatform.com.\n",
        "\n",
        "Thank you for your cooperation. For any urgent matters, please call us directly at 02-333-7777.\n",
        "\"\"\"\n",
        "\n",
        "# Example of using a regex with this long text:\n",
        "# Find all email addresses\n",
        "emails = re.findall(r'[a-zA-Z0-9._%+-]+@[a-zA-Z0-9.-]+\\.[a-zA-Z]{2,}', text)\n",
        "print(\"Found Emails:\")\n",
        "for email in emails:\n",
        "    print(email)\n",
        "\n",
        "print(\"\\n\")\n",
        "\n",
        "# Find all phone numbers in various formats\n",
        "phone_numbers = re.findall(r'\\b(?:\\+?\\d{1,3}[-.\\s]?)?\\(?\\d{2,3}\\)?[-.\\s]?\\d{3}[-.\\s]?\\d{4}\\b', text)\n",
        "print(\"Found Phone Numbers:\")\n",
        "for number in phone_numbers:\n",
        "    print(number)"
      ]
    },
    {
      "cell_type": "markdown",
      "id": "2badefac",
      "metadata": {},
      "source": [
        "## Request - get any date from online"
      ]
    },
    {
      "cell_type": "markdown",
      "id": "ef088ebf",
      "metadata": {},
      "source": [
        "#### GET - files"
      ]
    },
    {
      "cell_type": "code",
      "execution_count": null,
      "id": "040e992b",
      "metadata": {},
      "outputs": [],
      "source": [
        "# uv add requests\n",
        "import requests\n",
        "from PyPDF2 import PdfReader, PdfWriter\n",
        "import io\n",
        "\n",
        "pdf_url = \"https://www.pea.co.th/sites/default/files/documents/tariff/Electricity_Tariff_MAY_2023.pdf\"\n",
        "\n",
        "try:\n",
        "    response = requests.get(pdf_url)\n",
        "    response.raise_for_status()  # This will raise an HTTPError if the request was unsuccessful\n",
        "    \n",
        "    # The PDF content is in response.content (raw bytes)\n",
        "    pdf_bytes = response.content\n",
        "\n",
        "    # Wrap the bytes object in a BytesIO object to create an in-memory file\n",
        "    # PyPDF2 can then read from this in-memory file just like a regular file\n",
        "    pdf_bytes_stream = io.BytesIO(response.content)\n",
        "\n",
        "    # Create a PdfReader object from the in-memory file\n",
        "    reader = PdfReader(pdf_bytes_stream)\n",
        "\n",
        "    # Loop through each page of the PDF and print its text\n",
        "    print(f\"Successfully downloaded and loaded PDF with {len(reader.pages)} pages.\")\n",
        "    print(\"--- Extracting text from all pages ---\")\n",
        "    for page in reader.pages:\n",
        "        print(page.extract_text())\n",
        "    \n",
        "except requests.exceptions.RequestException as e:\n",
        "    print(f\"Error downloading the PDF: {e}\")\n",
        "except Exception as e:\n",
        "    print(f\"An error occurred during PDF processing: {e}\")"
      ]
    },
    {
      "cell_type": "code",
      "execution_count": null,
      "id": "04f2b97e",
      "metadata": {},
      "outputs": [],
      "source": [
        "len(reader.pages)\n",
        "print(reader.pages[3].extract_text())"
      ]
    },
    {
      "cell_type": "code",
      "execution_count": null,
      "id": "f41f36b0",
      "metadata": {},
      "outputs": [],
      "source": [
        "content_text = '' \n",
        "\n",
        "for page in reader.pages:\n",
        "  content_text += page.extract_text()\n",
        "\n",
        "print(content_text)"
      ]
    },
    {
      "cell_type": "code",
      "execution_count": null,
      "id": "da17afe7",
      "metadata": {},
      "outputs": [],
      "source": [
        "import re\n",
        "\n",
        "regex = r'(?<=อัตราขั้นต่ำ : ).+'\n",
        "result = re.findall(regex, content_text)\n",
        "\n",
        "result"
      ]
    },
    {
      "cell_type": "markdown",
      "id": "c338d79e",
      "metadata": {},
      "source": [
        "#### GET - APIs"
      ]
    },
    {
      "cell_type": "markdown",
      "id": "746bb5a6",
      "metadata": {},
      "source": [
        "API (Application Programming Interface) คือช่องทางที่โปรแกรมสองโปรแกรมใช้สื่อสารกัน ในที่นี้เราจะเรียนรู้วิธีการใช้ไลบรารี requests เพื่อส่งคำขอ (request) ไปยัง API \n",
        "บนเว็บและรับข้อมูลกลับมา\n",
        "\n",
        "1. การเรียกใช้งาน GET Request\n",
        "- GET เป็นคำขอที่ใช้สำหรับ เรียกดูข้อมูล จากเซิร์ฟเวอร์ เช่น ข้อมูลสภาพอากาศ, ข้อมูลราคาทองคำ, หรือข้อมูลผู้ใช้\n",
        "\n",
        "2. การเรียกใช้งาน GET Request พร้อมพารามิเตอร์ (Query Parameters)\n",
        "- GET with Query Parameters เราต้องการกรองข้อมูลเฉพาะเจาะจงด้วย พารามิเตอร์ โดยจะส่งข้อมูลนี้ไปกับ URL\n",
        "เราจะใช้ API เพื่อดึงโพสต์ทั้งหมดจากผู้ใช้ที่มี userId เป็น 1\n",
        "\n",
        "3. การเรียกใช้งาน POST Request\n",
        "- POST เป็นคำขอที่ใช้สำหรับ สร้างข้อมูลใหม่ บนเซิร์ฟเวอร์ โดยเราจะส่งข้อมูลที่จะสร้างไปในรูปแบบ JSON เราจะใช้ API เพื่อเพิ่มโพสต์ใหม่\n"
      ]
    },
    {
      "cell_type": "code",
      "execution_count": null,
      "id": "9de618ae",
      "metadata": {},
      "outputs": [],
      "source": [
        "import requests\n",
        "\n",
        "# กำหนด URL ของ API ที่ต้องการเรียกดูข้อมูล\n",
        "api_url = \"https://jsonplaceholder.typicode.com/posts/1\"\n",
        "\n",
        "# ส่งคำขอ GET ไปยัง URL\n",
        "response = requests.get(api_url)\n",
        "\n",
        "# ตรวจสอบสถานะการตอบกลับ\n",
        "print(f\"สถานะการตอบกลับ (Status Code): {response.status_code}\")\n",
        "\n",
        "# ถ้าสถานะเป็น 200 (OK) แสดงว่าสำเร็จ\n",
        "if response.status_code == 200:\n",
        "    # แปลงข้อมูล JSON ที่ได้รับกลับมาให้เป็น Python Dictionary\n",
        "    data = response.json()\n",
        "    \n",
        "    print(\"\\nข้อมูลที่ได้รับ:\")\n",
        "    print(data)\n",
        "    \n",
        "    # เข้าถึงข้อมูลในรูปแบบ Dictionary\n",
        "    print(\"\\nหัวข้อ (Title):\", data['title'])\n",
        "    print(\"เนื้อหา (Body):\", data['body'])\n",
        "else:\n",
        "    print(\"\\nการเรียก API ไม่สำเร็จ\")"
      ]
    },
    {
      "cell_type": "markdown",
      "id": "01bf438e",
      "metadata": {},
      "source": [
        "#### Status Code \n",
        "- เป็นรหัส 3 หลักที่เซิร์ฟเวอร์ส่งกลับมาเพื่อบอกสถานะการตอบรับคำขอ HTTP ที่คุณส่งไป แต่ละรหัสจะมีความหมายที่แตกต่างกันออกไป ต่อไปนี้คือ Status Code ที่พบบ่อยและมีความสำคัญครับ\n",
        "\n",
        "---\n",
        "\n",
        "2xx (Success) - คำขอสำเร็จ 🟢\n",
        "\n",
        "* **200 OK**: เป็นรหัสที่พบบ่อยที่สุด หมายถึงคำขอสำเร็จและเซิร์ฟเวอร์ส่งข้อมูลที่คุณร้องขอมาให้แล้ว\n",
        "    * **ตัวอย่าง**: คุณเปิดเว็บไซต์หนึ่งแล้วเว็บไซต์นั้นแสดงผลได้อย่างปกติ\n",
        "* **201 Created**: หมายถึงคำขอสำเร็จและมีการ **สร้างทรัพยากรใหม่** บนเซิร์ฟเวอร์เรียบร้อยแล้ว\n",
        "    * **ตัวอย่าง**: คุณกรอกฟอร์มสมัครสมาชิกแล้วเซิร์ฟเวอร์สร้างบัญชีผู้ใช้ใหม่ให้คุณ\n",
        "\n",
        "---\n",
        "\n",
        "3xx (Redirection) - การเปลี่ยนเส้นทาง ➡️\n",
        "\n",
        "* **301 Moved Permanently**: หมายถึงทรัพยากรที่คุณร้องขอถูก **ย้ายไปที่อยู่ใหม่แบบถาวร** แล้ว เซิร์ฟเวอร์จะบอกที่อยู่ใหม่มาให้คุณด้วย\n",
        "    * **ตัวอย่าง**: เว็บไซต์เก่า `http://example.com` ย้ายไปเป็น `http://www.example.com` อย่างถาวร\n",
        "* **302 Found (หรือ Moved Temporarily)**: หมายถึงทรัพยากรถูก **ย้ายไปที่อยู่ใหม่ชั่วคราว** เท่านั้น และในอนาคตอาจจะย้ายกลับมาที่อยู่เดิมได้\n",
        "\n",
        "---\n",
        "\n",
        "4xx (Client Error) - ข้อผิดพลาดจากฝั่งผู้ใช้ 🔴\n",
        "\n",
        "* **400 Bad Request**: เซิร์ฟเวอร์ไม่สามารถเข้าใจคำขอของคุณได้ อาจเกิดจากคำขอมีรูปแบบที่ไม่ถูกต้อง หรือข้อมูลที่ส่งมาไม่ครบถ้วน\n",
        "* **401 Unauthorized**: คุณไม่ได้รับอนุญาตให้เข้าถึงทรัพยากรนี้ มักเกิดจากการ **ไม่ได้ล็อกอิน** หรือไม่ได้ใส่รหัสผ่านที่ถูกต้อง\n",
        "* **403 Forbidden**: คุณมีสิทธิ์เข้าถึง แต่ถูก **ปฏิเสธการเข้าถึง** ทรัพยากรนี้ มักเกิดจากสิทธิ์การใช้งานที่ไม่เพียงพอ\n",
        "* **404 Not Found**: เป็นรหัสที่คุ้นเคยกันดี หมายถึงเซิร์ฟเวอร์ **หาทรัพยากรที่คุณร้องขอไม่พบ** อาจเกิดจาก URL ที่พิมพ์ผิด\n",
        "* **405 Method Not Allowed**: วิธีการร้องขอ (เช่น GET, POST) ที่คุณใช้ไม่ได้รับอนุญาตสำหรับ URL นี้\n",
        "\n",
        "---\n",
        "\n",
        "5xx (Server Error) - ข้อผิดพลาดจากฝั่งเซิร์ฟเวอร์ 🟠\n",
        "\n",
        "* **500 Internal Server Error**: เป็นข้อผิดพลาดทั่วไปที่บอกว่าเกิดปัญหาขึ้นกับเซิร์ฟเวอร์เอง **แต่ไม่สามารถระบุสาเหตุที่ชัดเจนได้** มักเป็นปัญหาที่ต้องแก้ไขโดยผู้ดูแลเซิร์ฟเวอร์\n",
        "* **503 Service Unavailable**: เซิร์ฟเวอร์ **ไม่พร้อมให้บริการ** ในขณะนี้ มักเกิดจากการโอเวอร์โหลดหรือมีการบำรุงรักษา"
      ]
    },
    {
      "cell_type": "code",
      "execution_count": null,
      "id": "966a9ef1",
      "metadata": {},
      "outputs": [],
      "source": [
        "import requests\n",
        "\n",
        "api_url = \"https://jsonplaceholder.typicode.com/posts\"\n",
        "\n",
        "# กำหนดพารามิเตอร์ในรูปแบบ Dictionary\n",
        "params = {\n",
        "    \"userId\": 1\n",
        "}\n",
        "\n",
        "# ส่งคำขอ GET พร้อมแนบพารามิเตอร์\n",
        "response = requests.get(api_url, params=params)\n",
        "\n",
        "if response.status_code == 200:\n",
        "    posts = response.json()\n",
        "    \n",
        "    print(f\"พบ {len(posts)} โพสต์จากผู้ใช้ userId=1\\n\")\n",
        "    \n",
        "    # วนลูปแสดงข้อมูลจากแต่ละโพสต์\n",
        "    for post in posts:\n",
        "        print(f\"Post ID: {post['id']}\")\n",
        "        print(f\"Title: {post['title']}\")\n",
        "        print(\"-\" * 20)\n",
        "else:\n",
        "    print(\"การเรียก API ไม่สำเร็จ\")"
      ]
    },
    {
      "cell_type": "code",
      "execution_count": null,
      "id": "f584140d",
      "metadata": {},
      "outputs": [],
      "source": [
        "import requests\n",
        "import json\n",
        "\n",
        "api_url = \"https://jsonplaceholder.typicode.com/posts\"\n",
        "\n",
        "# ข้อมูลใหม่ที่เราต้องการส่งไปในรูปแบบ Dictionary\n",
        "new_post_data = {\n",
        "    \"title\": \"My First API Post\",\n",
        "    \"body\": \"This is the content of my first post using the requests library.\",\n",
        "    \"userId\": 1\n",
        "}\n",
        "\n",
        "# กำหนด headers เพื่อระบุว่าข้อมูลที่ส่งไปเป็น JSON\n",
        "headers = {\n",
        "    \"Content-Type\": \"application/json\"\n",
        "}\n",
        "\n",
        "# ส่งคำขอ POST พร้อมข้อมูล (data) และ headers\n",
        "response = requests.post(api_url, data=json.dumps(new_post_data), headers=headers)\n",
        "\n",
        "# สถานะการตอบกลับ 201 (Created) หมายถึงการสร้างสำเร็จ\n",
        "if response.status_code == 201:\n",
        "    created_post = response.json()\n",
        "    \n",
        "    print(\"โพสต์ใหม่ถูกสร้างสำเร็จแล้ว:\")\n",
        "    print(f\"ID ของโพสต์ใหม่: {created_post['id']}\")\n",
        "    print(f\"ชื่อหัวข้อ: {created_post['title']}\")\n",
        "    print(created_post)\n",
        "else:\n",
        "    print(f\"การสร้างโพสต์ไม่สำเร็จ. สถานะ: {response.status_code}\")"
      ]
    },
    {
      "cell_type": "markdown",
      "id": "0094c9be",
      "metadata": {},
      "source": [
        "## Pandas -การจัดการและวิเคราะห์ข้อมูล\n",
        "- pandas คือไลบรารีที่ทรงพลังสำหรับจัดการและวิเคราะห์ข้อมูลใน Python เป็นเครื่องมือสำคัญสำหรับนักวิทยาศาสตร์ข้อมูลและนักวิเคราะห์ข้อมูล Pandas สร้างขึ้นบน NumPy และสามารถทำงานกับข้อมูลที่หลากหลายได้อย่างมีประสิทธิภาพ"
      ]
    },
    {
      "cell_type": "markdown",
      "id": "6a6f0793",
      "metadata": {},
      "source": [
        "1\\. โครงสร้างข้อมูลหลัก: Series และ DataFrame\n",
        "\n",
        "Pandas มีโครงสร้างข้อมูลหลักอยู่ 2 ชนิด:\n",
        "\n",
        "  * **Series**: อะเรย์หนึ่งมิติ (1-dimensional array) ที่มีป้ายกำกับ (labeled index) คล้ายกับคอลัมน์ในตาราง Excel\n",
        "  * **DataFrame**: โครงสร้างข้อมูลแบบสองมิติ (2-dimensional) คล้ายกับตารางฐานข้อมูลหรือสเปรดชีต ประกอบด้วยหลายคอลัมน์ แต่ละคอลัมน์คือวัตถุ Series\n",
        "\n",
        "(1.1) การสร้าง Series"
      ]
    },
    {
      "cell_type": "code",
      "execution_count": null,
      "id": "4ceb3398",
      "metadata": {},
      "outputs": [],
      "source": [
        "# uv add pandas\n",
        "import pandas as pd\n",
        "import numpy as np\n",
        "\n",
        "# สร้าง Series จาก List\n",
        "data_list = [10, 20, 30, 40]\n",
        "s1 = pd.Series(data_list)\n",
        "print(\"Series จาก List:\")\n",
        "print(s1)\n",
        "\n",
        "# สร้าง Series จาก Dictionary\n",
        "data_dict = {'Math': 95, 'Science': 88, 'History': 75}\n",
        "s2 = pd.Series(data_dict)\n",
        "print(\"\\nSeries จาก Dictionary:\")\n",
        "print(s2)"
      ]
    },
    {
      "cell_type": "markdown",
      "id": "9827efc3",
      "metadata": {},
      "source": [
        "(1.2) การสร้าง DataFrame"
      ]
    },
    {
      "cell_type": "code",
      "execution_count": null,
      "id": "281b0eec",
      "metadata": {},
      "outputs": [],
      "source": [
        "# สร้าง DataFrame จาก Dictionary of Lists\n",
        "data = {\n",
        "    'Name': ['Alice', 'Bob', 'Charlie', 'David'],\n",
        "    'Age': [25, 30, 35, 40],\n",
        "    'City': ['New York', 'Paris', 'London', 'Tokyo']\n",
        "}\n",
        "df = pd.DataFrame(data)\n",
        "print(\"DataFrame ที่สร้างขึ้น:\")\n",
        "print(df)"
      ]
    },
    {
      "cell_type": "markdown",
      "id": "e1c91de6",
      "metadata": {},
      "source": [
        "2\\. การนำเข้าและส่งออกข้อมูล (I/O)\n",
        "\n",
        "หนึ่งในประโยชน์หลักของ Pandas คือความสามารถในการอ่านและเขียนข้อมูลจากไฟล์หลากหลายประเภท เช่น CSV, Excel, และ SQL\n"
      ]
    },
    {
      "cell_type": "code",
      "execution_count": null,
      "id": "e3a72a5b",
      "metadata": {},
      "outputs": [],
      "source": [
        "# สร้างไฟล์ CSV จำลองเพื่อทดสอบ\n",
        "data_to_csv = {'Product': ['A', 'B', 'C'], 'Price': [100, 150, 200]}\n",
        "df_temp = pd.DataFrame(data_to_csv)\n",
        "df_temp.to_csv('products.csv', index=False)\n",
        "print(\"ไฟล์ products.csv ถูกสร้างขึ้นแล้ว\")"
      ]
    },
    {
      "cell_type": "code",
      "execution_count": null,
      "id": "0425f800",
      "metadata": {},
      "outputs": [],
      "source": [
        "# อ่านข้อมูลจากไฟล์ CSV\n",
        "df_products = pd.read_csv('products.csv')\n",
        "print(\"\\nDataFrame ที่อ่านจาก products.csv:\")\n",
        "print(df_products)"
      ]
    },
    {
      "cell_type": "code",
      "execution_count": null,
      "id": "ec1e79c5",
      "metadata": {},
      "outputs": [],
      "source": [
        "# ลบไฟล์\n",
        "import os\n",
        "os.remove('products.csv')"
      ]
    },
    {
      "cell_type": "markdown",
      "id": "dffad795",
      "metadata": {},
      "source": [
        "3\\. การตรวจสอบข้อมูลเบื้องต้น\n",
        "\n",
        "เมื่อโหลดข้อมูลเข้ามาแล้ว ควรตรวจสอบโครงสร้างและคุณสมบัติของข้อมูลก่อนเสมอ"
      ]
    },
    {
      "cell_type": "code",
      "execution_count": null,
      "id": "9c8a5440",
      "metadata": {},
      "outputs": [],
      "source": [
        "# ข้อมูลตัวอย่างสำหรับตรวจสอบ\n",
        "data_students = {\n",
        "    'Student_ID': [101, 102, 103, 104, 105],\n",
        "    'Name': ['Alice', 'Bob', 'Charlie', 'David', 'Eve'],\n",
        "    'Score': [85, 90, 78, np.nan, 95], # np.nan แทนข้อมูลที่ขาดหาย\n",
        "    'Grade': ['A', 'A', 'B', 'C', 'A']\n",
        "}\n",
        "df_students = pd.DataFrame(data_students)\n",
        "\n",
        "# แสดง 5 แถวแรกของ DataFrame\n",
        "print(\"ข้อมูล 5 แถวแรก:\")\n",
        "print(df_students.head())\n",
        "\n",
        "# แสดงข้อมูลสรุป\n",
        "print(\"\\nข้อมูลสรุป (info):\")\n",
        "df_students.info()\n",
        "\n",
        "# แสดงสถิติเชิงพรรณนา\n",
        "print(\"\\nสถิติเชิงพรรณนา (describe):\")\n",
        "print(df_students.describe())\n",
        "\n",
        "# ตรวจสอบค่าที่ขาดหาย (missing values)\n",
        "print(\"\\nค่าที่ขาดหาย:\")\n",
        "print(df_students.isnull().sum())"
      ]
    },
    {
      "cell_type": "markdown",
      "id": "25e51ec1",
      "metadata": {},
      "source": [
        "4\\. การเลือกข้อมูล (Selection)\n",
        "\n",
        "การเลือกข้อมูลใน Pandas สามารถทำได้หลายวิธี:\n",
        "\n",
        "  * **เลือกคอลัมน์**:  ใช้ชื่อคอลัมน์เหมือนการเรียก Dictionary\n",
        "  * **เลือกแถว**:  ใช้ `.loc[]` หรือ `.iloc[]`\n",
        "      * `.loc[row_label, column_label]` (ใช้ชื่อ)\n",
        "      * `.iloc[row_index, column_index]` (ใช้ลำดับ)\n",
        "      * สามารถกำหนด index แทนตัวเลข defualt ด้วย .set_index\n",
        "  * **การกรองข้อมูล (Conditional Selection)**: ใช้เงื่อนไขทางตรรกะ"
      ]
    },
    {
      "cell_type": "code",
      "execution_count": null,
      "id": "531539c8",
      "metadata": {},
      "outputs": [],
      "source": [
        "# เลือกคอลัมน์เดียว\n",
        "scores = df_students['Score']\n",
        "print(\"เลือกคอลัมน์ 'Score':\")\n",
        "print(scores)\n",
        "\n",
        "# เลิือกแถว\n",
        "print(\"\\nIndex เริ่มต้น:\", df_students.index)\n",
        "print(\"\\nเลือกแถวที่มีชื่อ 'Bob':\")\n",
        "print(df_students.loc[1])\n",
        "\n",
        "# เลือกหลายคอลัมน์\n",
        "subset_df = df_students[['Name', 'Score']]\n",
        "print(\"\\nเลือกคอลัมน์ 'Name' และ 'Score':\")\n",
        "print(subset_df)\n",
        "\n",
        "# เลือกแถวที่มีค่า 'Score' มากกว่า 80\n",
        "high_scores = df_students[df_students['Score'] > 80]\n",
        "print(\"\\nนักเรียนที่ได้คะแนนมากกว่า 80:\")\n",
        "print(high_scores)\n",
        "\n",
        "# เลือกแถวที่มี 'Name' เป็น 'Alice'\n",
        "alice_info = df_students[df_students['Name'] == 'Alice']\n",
        "print(\"\\nข้อมูลของ Alice:\")\n",
        "print(alice_info)"
      ]
    },
    {
      "cell_type": "markdown",
      "id": "422f7f13",
      "metadata": {},
      "source": [
        "5\\. การจัดการข้อมูลที่ขาดหาย (Missing Data/ Cleansing Data)\n",
        "\n",
        "ข้อมูลที่ขาดหาย (`NaN` หรือ `None`) เป็นเรื่องปกติในชุดข้อมูลจริง Pandas มีเครื่องมือในการจัดการข้อมูลเหล่านี้"
      ]
    },
    {
      "cell_type": "code",
      "execution_count": null,
      "id": "f6c10476",
      "metadata": {},
      "outputs": [],
      "source": [
        "# สร้าง DataFrame ที่มีค่าขาดหาย\n",
        "data_with_na = {'A': [1, 2, np.nan], 'B': [4, np.nan, 6]}\n",
        "df_na = pd.DataFrame(data_with_na)\n",
        "print(\"DataFrame ที่มีค่าขาดหาย:\")\n",
        "print(df_na)\n",
        "\n",
        "# 1. การลบแถวที่มีค่าขาดหาย\n",
        "df_dropna = df_na.dropna()\n",
        "print(\"\\nลบแถวที่มีค่าขาดหาย:\")\n",
        "print(df_dropna)\n",
        "\n",
        "# 2. การเติมค่าที่ขาดหาย\n",
        "# เติมค่าเฉลี่ย\n",
        "df_fill = df_na.fillna(df_na.mean())\n",
        "print(\"\\nเติมค่าเฉลี่ย:\")\n",
        "print(df_fill)\n",
        "\n",
        "# เติมค่าคงที่\n",
        "df_fill_zero = df_na.fillna(0)\n",
        "print(\"\\nเติมด้วยค่า 0:\")\n",
        "print(df_fill_zero)"
      ]
    },
    {
      "cell_type": "markdown",
      "id": "803fed25",
      "metadata": {},
      "source": [
        "6\\. การจัดกลุ่มและสรุปข้อมูล (Grouping and Aggregation)"
      ]
    },
    {
      "cell_type": "code",
      "execution_count": null,
      "id": "e0fc54b0",
      "metadata": {},
      "outputs": [],
      "source": [
        "# ข้อมูลยอดขาย\n",
        "sales_data = {\n",
        "    'Region': ['East', 'West', 'East', 'West', 'East'],\n",
        "    'Product': ['A', 'B', 'A', 'B', 'A'],\n",
        "    'Sales': [100, 150, 120, 180, 200]\n",
        "}\n",
        "df_sales = pd.DataFrame(sales_data)\n",
        "\n",
        "# จัดกลุ่มตาม 'Region' แล้วหาผลรวมยอดขาย\n",
        "sales_by_region = df_sales.groupby('Region')['Sales'].sum()\n",
        "print(\"ยอดขายรวมตามภูมิภาค:\")\n",
        "print(sales_by_region)\n",
        "\n",
        "# จัดกลุ่มตาม 'Region' แล้วหาค่าเฉลี่ย\n",
        "avg_sales_by_region = df_sales.groupby('Region')['Sales'].mean()\n",
        "print(\"\\nยอดขายเฉลี่ยตามภูมิภาค:\")\n",
        "print(avg_sales_by_region)"
      ]
    },
    {
      "cell_type": "markdown",
      "id": "424c4326",
      "metadata": {},
      "source": [
        "---\n",
        "\n",
        "# Exercise - ดึงผลการตอบแบบสอบถาม Google Form \n",
        "## มาสรุปรายงานในรูปแบบ Excel, Word และ PDF\n",
        "\n",
        "1. การดึงและแปลงข้อมูล 📊"
      ]
    },
    {
      "cell_type": "code",
      "execution_count": null,
      "id": "fed1b6f6",
      "metadata": {},
      "outputs": [],
      "source": [
        "import io\n",
        "import requests\n",
        "import pandas as pd\n",
        "\n",
        "rpa_sheet = \"https://docs.google.com/spreadsheets/d/e/2PACX-1vQg4bwLx_MubH_ny0Bk8dWXQYzCnpo11HUz9eTfJW0WFHhhK3ZBtTHEHwFsg3UEsWJtP4gZdVINPnER/pub?gid=277178403&single=true&output=csv\"\n",
        "response = requests.get(rpa_sheet)\n",
        "\n",
        "# 1. stream โหลดไฟล์เก็บใน ram\n",
        "csv_bytes_stream = io.BytesIO(response.content)\n",
        "\n",
        "# 2. สร้างไฟล์จริง ๆ\n",
        "with open('report.csv', 'wb') as f:\n",
        "    f.write(csv_bytes_stream.getvalue())\n",
        "\n",
        "df = pd.read_csv(csv_bytes_stream)\n",
        "# df2 = pd.read_csv(\"rpa_sheet.csv\") "
      ]
    },
    {
      "cell_type": "code",
      "execution_count": null,
      "id": "bc114908",
      "metadata": {},
      "outputs": [],
      "source": [
        "df.head()  # read top 5"
      ]
    },
    {
      "cell_type": "code",
      "execution_count": null,
      "id": "f99799a0",
      "metadata": {},
      "outputs": [],
      "source": [
        "df.count()"
      ]
    },
    {
      "cell_type": "code",
      "execution_count": null,
      "id": "ee6b18b7",
      "metadata": {},
      "outputs": [],
      "source": [
        "# ทำความสะอาดและเปลี่ยนชื่อคอลัมน์\n",
        "df.columns = ['timestamp', 'prefix', 'first_name', 'last_name', 'email', 'region', 'rpa_experience', 'comment']"
      ]
    },
    {
      "cell_type": "code",
      "execution_count": null,
      "id": "582d524a",
      "metadata": {},
      "outputs": [],
      "source": [
        "# ลบแถวที่ซ้ำกัน เพื่อให้รายงานถูกต้อง\n",
        "df.drop_duplicates(subset=['timestamp', 'first_name', 'last_name', 'email', 'region'], inplace=True)\n",
        "df.reset_index(drop=True, inplace=True)\n",
        "\n",
        "# ลบข้อมูลค่าว่าง NaN, TaN\n",
        "df.dropna()"
      ]
    },
    {
      "cell_type": "code",
      "execution_count": null,
      "id": "bc5a0fe5",
      "metadata": {},
      "outputs": [],
      "source": [
        "df.region.unique()"
      ]
    },
    {
      "cell_type": "code",
      "execution_count": null,
      "id": "483c9b10",
      "metadata": {},
      "outputs": [],
      "source": [
        "df.region.value_counts()"
      ]
    },
    {
      "cell_type": "code",
      "execution_count": null,
      "id": "1ed6759c",
      "metadata": {},
      "outputs": [],
      "source": [
        "df.groupby('comment').count()"
      ]
    },
    {
      "cell_type": "code",
      "execution_count": null,
      "id": "4c498a4c",
      "metadata": {},
      "outputs": [],
      "source": [
        "df['email']"
      ]
    },
    {
      "cell_type": "markdown",
      "id": "4342e439",
      "metadata": {},
      "source": [
        "2. สรุปรายงานในรูปแบบ Excel 📈"
      ]
    },
    {
      "cell_type": "code",
      "execution_count": null,
      "id": "4744a465",
      "metadata": {},
      "outputs": [],
      "source": [
        "# สรุปข้อมูลตามภูมิภาค\n",
        "summary_by_region = df.groupby('region').size().reset_index(name='count')\n",
        "\n",
        "# สรุปข้อมูลตามประสบการณ์ RPA\n",
        "summary_by_experience = df.groupby('rpa_experience').size().reset_index(name='count')\n",
        "\n",
        "with pd.ExcelWriter('report.xlsx') as writer:\n",
        "    df.to_excel(writer, sheet_name='Raw Data', index=False)\n",
        "    summary_by_region.to_excel(writer, sheet_name='Summary by Region', index=False)\n",
        "    summary_by_experience.to_excel(writer, sheet_name='Summary by Experience', index=False)\n",
        "\n",
        "print(\"\\nสร้างไฟล์ report.xlsx เรียบร้อยแล้ว.\")"
      ]
    },
    {
      "cell_type": "markdown",
      "id": "69c0c5f7",
      "metadata": {},
      "source": [
        "3. สรุปรายงานในรูปแบบ Word 📄"
      ]
    },
    {
      "cell_type": "code",
      "execution_count": null,
      "id": "7ecb9d2a",
      "metadata": {},
      "outputs": [],
      "source": [
        "from docx import Document\n",
        "\n",
        "# สร้างเอกสารใหม่\n",
        "doc = Document()\n",
        "doc.add_heading('รายงานสรุปผลการตอบแบบสอบถาม', 0)\n",
        "doc.add_paragraph(f'จำนวนผู้ตอบแบบสอบถามทั้งหมด: {len(df)} คน')\n",
        "\n",
        "# เพิ่มหัวข้อสรุปตามภูมิภาค\n",
        "doc.add_heading('สรุปตามภูมิภาค', level=1)\n",
        "for index, row in summary_by_region.iterrows():\n",
        "    doc.add_paragraph(f'- ภาค{row[\"region\"]}: {row[\"count\"]} คน')\n",
        "\n",
        "# เพิ่มหัวข้อสรุปตามประสบการณ์\n",
        "doc.add_heading('สรุปตามประสบการณ์ RPA', level=1)\n",
        "for index, row in summary_by_experience.iterrows():\n",
        "    doc.add_paragraph(f'- {row[\"rpa_experience\"]}: {row[\"count\"]} คน')\n",
        "\n",
        "# บันทึกไฟล์ Word\n",
        "doc.save('report.docx')\n",
        "print(\"\\nสร้างไฟล์ report.docx เรียบร้อยแล้ว.\")"
      ]
    },
    {
      "cell_type": "markdown",
      "id": "4b663c07",
      "metadata": {},
      "source": [
        "4. แปลงไฟล์จาก Word และ PDF 📄"
      ]
    },
    {
      "cell_type": "code",
      "execution_count": null,
      "id": "a46770c3",
      "metadata": {},
      "outputs": [],
      "source": [
        "from docx2pdf import convert\n",
        "\n",
        "try:\n",
        "    convert('report.docx', 'report.pdf')\n",
        "    print(\"แปลงไฟล์ report.docx เป็น report.pdf เรียบร้อยแล้ว.\")\n",
        "except Exception as e:\n",
        "    print(f\"เกิดข้อผิดพลาดในการแปลงไฟล์เป็น PDF: {e}\")\n",
        "    print(\"อาจต้องติดตั้ง Microsoft Word หรือ LibreOffice เพื่อใช้งาน docx2pdf\")"
      ]
    },
    {
      "cell_type": "markdown",
      "id": "ce7c3c21",
      "metadata": {},
      "source": [
        "0. remove all files"
      ]
    },
    {
      "cell_type": "code",
      "execution_count": null,
      "id": "3239ff52",
      "metadata": {},
      "outputs": [],
      "source": [
        "import os\n",
        "\n",
        "try:\n",
        "    os.remove('report.docx')\n",
        "    os.remove('report.pdf')\n",
        "    os.remove('report.xlsx')\n",
        "    os.remove('report.csv')\n",
        "except Exception as e:\n",
        "    print(f\"ลบไฟล์ ไม่สำเร็จ: {e}\")"
      ]
    }
  ],
  "metadata": {
    "kernelspec": {
      "display_name": "teach-python-101",
      "language": "python",
      "name": "python3"
    },
    "language_info": {
      "codemirror_mode": {
        "name": "ipython",
        "version": 3
      },
      "file_extension": ".py",
      "mimetype": "text/x-python",
      "name": "python",
      "nbconvert_exporter": "python",
      "pygments_lexer": "ipython3",
      "version": "3.11.12"
    }
  },
  "nbformat": 4,
  "nbformat_minor": 5
}
